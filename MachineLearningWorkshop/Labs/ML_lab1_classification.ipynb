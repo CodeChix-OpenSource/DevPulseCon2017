{
 "cells": [
  {
   "cell_type": "code",
   "execution_count": 1,
   "metadata": {
    "collapsed": true
   },
   "outputs": [],
   "source": [
    "# Imports for Reading data\n",
    "import pandas as pd\n",
    "import numpy"
   ]
  },
  {
   "cell_type": "code",
   "execution_count": 2,
   "metadata": {
    "collapsed": true
   },
   "outputs": [],
   "source": [
    "df_data = pd.read_csv(\"ClassificationData.csv\", thousands=',', sep=',',engine='python')\n",
    "# Get the class labels for each datapoint in a separate array\n",
    "df_data_y = df_data['Label']\n",
    "df_data_x = df_data.drop('Label', 1)\n",
    "\n",
    "# no of rows and columns in the data set\n",
    "df_data_x.shape \n"
   ]
  },
  {
   "cell_type": "code",
   "execution_count": 5,
   "metadata": {
    "collapsed": false
   },
   "outputs": [],
   "source": [
    "# Generic imports \n",
    "from sklearn.cross_validation import train_test_split\n",
    "import numpy as np\n",
    "\n",
    "# Logistic regression\n",
    "from sklearn import linear_model, datasets\n",
    "\n",
    "# Support Vector Machines\n",
    "from sklearn.svm import SVC\n",
    "\n",
    "# Decision Trees\n",
    "from sklearn.tree import DecisionTreeClassifier"
   ]
  },
  {
   "cell_type": "code",
   "execution_count": null,
   "metadata": {
    "collapsed": true
   },
   "outputs": [],
   "source": [
    "# Split the dataset into test and train\n",
    "X_train, X_test, y_train, y_test = train_test_split(df_data_x, df_data_y, test_size = 0.2)"
   ]
  },
  {
   "cell_type": "code",
   "execution_count": 6,
   "metadata": {
    "collapsed": false
   },
   "outputs": [
    {
     "name": "stdout",
     "output_type": "stream",
     "text": [
      "[[ -8.55208062e-10  -1.74935995e-06  -4.12444069e-06  -1.01345712e-05\n",
      "    4.90296145e-05  -2.47034930e-08  -1.74464256e-09   2.72859927e-08\n",
      "    1.47068566e-08  -4.68405126e-08  -1.93118110e-08   3.53047459e-08\n",
      "   -3.78554532e-07   2.54566740e-07   1.30800605e-05  -2.36398742e-09\n",
      "   -2.97227644e-09  -2.56468898e-09  -1.15622526e-09  -6.50154222e-09\n",
      "   -9.87754391e-10  -1.24645284e-06  -5.12264381e-06  -6.71194008e-06\n",
      "    1.46782493e-04  -3.12607726e-08   1.24883886e-08   5.27766408e-08\n",
      "    1.57410218e-08  -6.54262913e-08  -1.98542728e-08]]\n"
     ]
    },
    {
     "data": {
      "text/plain": [
       "0.45614035087719296"
      ]
     },
     "execution_count": 6,
     "metadata": {},
     "output_type": "execute_result"
    }
   ],
   "source": [
    "# Classification using Logistic Regression \n",
    "\n",
    "# step size in the mesh\n",
    "h = .02  \n",
    "\n",
    "# Fit the data to teh model to get the weights for features\n",
    "logreg = linear_model.LogisticRegression(C=1.0)\n",
    "lg = logreg.fit(X_train, y_train)\n",
    "print(lg.coef_)\n",
    "\n",
    "# Use the Log reg model to calculate predict the class labels\n",
    "y_pred = logreg.predict(X_test)\n",
    "y_proba = logreg.predict_proba(X_test)\n",
    "\n",
    "# Logistic Regression score (accuracy )on training and test\n",
    "print(logreg.score(X_train, y_train))\n",
    "print(logreg.score(X_test, y_test))\n"
   ]
  },
  {
   "cell_type": "code",
   "execution_count": 12,
   "metadata": {
    "collapsed": false
   },
   "outputs": [
    {
     "data": {
      "text/plain": [
       "SVC(C=0.1, cache_size=200, class_weight=None, coef0=0.0,\n",
       "  decision_function_shape=None, degree=3, gamma='auto', kernel='rbf',\n",
       "  max_iter=-1, probability=False, random_state=None, shrinking=True,\n",
       "  tol=0.001, verbose=False)"
      ]
     },
     "execution_count": 12,
     "metadata": {},
     "output_type": "execute_result"
    }
   ],
   "source": [
    "#Support Vector Machine Model\n",
    "\n",
    "#split the dataset into test and train\n",
    "X_train, X_test, y_train, y_test = train_test_split(df_data_x, df_data_y, test_size = 0.2)\n",
    "\n",
    "# Fit the training data\n",
    "svm = SVC(C=0.1, kernel='rbf')\n",
    "svm.fit(X_train, y_train)"
   ]
  },
  {
   "cell_type": "code",
   "execution_count": 14,
   "metadata": {
    "collapsed": false
   },
   "outputs": [
    {
     "name": "stdout",
     "output_type": "stream",
     "text": [
      "0.628571428571\n",
      "0.622807017544\n"
     ]
    }
   ],
   "source": [
    "# Check predictions on training data\n",
    "y_pred_svm = svm.predict(X_train)\n",
    "\n",
    "# The mean accuracy on test and training \n",
    "print(svm.score(X_train, y_train))\n",
    "print(svm.score(X_test, y_test))"
   ]
  },
  {
   "cell_type": "code",
   "execution_count": 9,
   "metadata": {
    "collapsed": false
   },
   "outputs": [
    {
     "name": "stdout",
     "output_type": "stream",
     "text": [
      "DecisionTreeClassifier(class_weight=None, criterion='gini', max_depth=None,\n",
      "            max_features=None, max_leaf_nodes=None, min_samples_leaf=1,\n",
      "            min_samples_split=20, min_weight_fraction_leaf=0.0,\n",
      "            presort=False, random_state=None, splitter='best')\n"
     ]
    },
    {
     "data": {
      "text/plain": [
       "0.92105263157894735"
      ]
     },
     "execution_count": 9,
     "metadata": {},
     "output_type": "execute_result"
    }
   ],
   "source": [
    "# Classification using Decision Trees\n",
    "\n",
    "dt_model = DecisionTreeClassifier(min_samples_split=20)\n",
    "dt_model.fit(X_train, y_train)\n",
    "print(dt_model)\n",
    "\n",
    "# make predictions\n",
    "y_pred_decision_tree = dt_model.predict(X_test)\n",
    "\n",
    "# Accuracy of decision tree model on training data\n",
    "dt_model.score(X_train, y_train) \n",
    "\n",
    "# Accuracy of decision tree model on test dataset\n",
    "dt_model.score(X_test, y_test)\n"
   ]
  },
  {
   "cell_type": "code",
   "execution_count": null,
   "metadata": {
    "collapsed": true
   },
   "outputs": [],
   "source": []
  }
 ],
 "metadata": {
  "kernelspec": {
   "display_name": "Python 2",
   "language": "python",
   "name": "python2"
  },
  "language_info": {
   "codemirror_mode": {
    "name": "ipython",
    "version": 2
   },
   "file_extension": ".py",
   "mimetype": "text/x-python",
   "name": "python",
   "nbconvert_exporter": "python",
   "pygments_lexer": "ipython2",
   "version": "2.7.10"
  }
 },
 "nbformat": 4,
 "nbformat_minor": 0
}
